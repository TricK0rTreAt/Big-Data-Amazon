{
  "nbformat": 4,
  "nbformat_minor": 0,
  "metadata": {
    "colab": {
      "provenance": [],
      "collapsed_sections": []
    },
    "kernelspec": {
      "name": "python3",
      "display_name": "Python 3"
    },
    "language_info": {
      "name": "python"
    }
  },
  "cells": [
    {
      "cell_type": "code",
      "execution_count": null,
      "metadata": {
        "id": "KD03rzpI5si2",
        "colab": {
          "base_uri": "https://localhost:8080/"
        },
        "outputId": "2ded1376-d986-4341-8631-b6e21779b659"
      },
      "outputs": [
        {
          "output_type": "stream",
          "name": "stdout",
          "text": [
            "Hit:1 https://cloud.r-project.org/bin/linux/ubuntu bionic-cran40/ InRelease\n",
            "Ign:2 https://developer.download.nvidia.com/compute/machine-learning/repos/ubuntu1804/x86_64  InRelease\n",
            "Hit:3 https://developer.download.nvidia.com/compute/cuda/repos/ubuntu1804/x86_64  InRelease\n",
            "Hit:4 http://ppa.launchpad.net/c2d4u.team/c2d4u4.0+/ubuntu bionic InRelease\n",
            "Hit:5 http://archive.ubuntu.com/ubuntu bionic InRelease\n",
            "Get:6 http://security.ubuntu.com/ubuntu bionic-security InRelease [88.7 kB]\n",
            "Hit:7 https://developer.download.nvidia.com/compute/machine-learning/repos/ubuntu1804/x86_64  Release\n",
            "Get:8 http://archive.ubuntu.com/ubuntu bionic-updates InRelease [88.7 kB]\n",
            "Hit:9 http://ppa.launchpad.net/cran/libgit2/ubuntu bionic InRelease\n",
            "Get:10 http://archive.ubuntu.com/ubuntu bionic-backports InRelease [74.6 kB]\n",
            "Hit:11 http://ppa.launchpad.net/deadsnakes/ppa/ubuntu bionic InRelease\n",
            "Hit:12 http://ppa.launchpad.net/graphics-drivers/ppa/ubuntu bionic InRelease\n",
            "Fetched 252 kB in 4s (70.7 kB/s)\n",
            "Reading package lists... Done\n"
          ]
        }
      ],
      "source": [
        "import os\n",
        "# Find the latest version of spark 3.0  from http://www.apache.org/dist/spark/ and enter as the spark version\n",
        "# For example:\n",
        "# spark_version = 'spark-3.0.3'\n",
        "spark_version = 'spark-3.1.3'\n",
        "\n",
        "os.environ['SPARK_VERSION']=spark_version\n",
        "\n",
        "# Install Spark and Java\n",
        "!apt-get update\n",
        "!apt-get install openjdk-8-jdk-headless -qq > /dev/null\n",
        "!wget -q http://www.apache.org/dist/spark/$SPARK_VERSION/$SPARK_VERSION-bin-hadoop2.7.tgz\n",
        "!tar xf $SPARK_VERSION-bin-hadoop2.7.tgz\n",
        "!pip install -q findspark\n",
        "\n",
        "# Set Environment Variables\n",
        "os.environ[\"JAVA_HOME\"] = \"/usr/lib/jvm/java-8-openjdk-amd64\"\n",
        "os.environ[\"SPARK_HOME\"] = f\"/content/{spark_version}-bin-hadoop2.7\"\n",
        "\n",
        "# Start a SparkSession\n",
        "import findspark\n",
        "findspark.init()"
      ]
    },
    {
      "cell_type": "code",
      "source": [
        "!wget https://jdbc.postgresql.org/download/postgresql-42.2.9.jar"
      ],
      "metadata": {
        "colab": {
          "base_uri": "https://localhost:8080/"
        },
        "id": "gXHUPvK07mgh",
        "outputId": "449a9b97-0abd-45f4-963f-b3803e4be8d7"
      },
      "execution_count": null,
      "outputs": [
        {
          "output_type": "stream",
          "name": "stdout",
          "text": [
            "--2022-09-07 10:38:16--  https://jdbc.postgresql.org/download/postgresql-42.2.9.jar\n",
            "Resolving jdbc.postgresql.org (jdbc.postgresql.org)... 72.32.157.228, 2001:4800:3e1:1::228\n",
            "Connecting to jdbc.postgresql.org (jdbc.postgresql.org)|72.32.157.228|:443... connected.\n",
            "HTTP request sent, awaiting response... 200 OK\n",
            "Length: 914037 (893K) [application/java-archive]\n",
            "Saving to: ‘postgresql-42.2.9.jar.4’\n",
            "\n",
            "postgresql-42.2.9.j 100%[===================>] 892.61K  5.75MB/s    in 0.2s    \n",
            "\n",
            "2022-09-07 10:38:16 (5.75 MB/s) - ‘postgresql-42.2.9.jar.4’ saved [914037/914037]\n",
            "\n"
          ]
        }
      ]
    },
    {
      "cell_type": "code",
      "source": [
        "from pyspark.sql import SparkSession\n",
        "spark = SparkSession.builder.appName(\"CloudETL\").config(\"spark.driver.extraClassPath\",\"/content/postgresql-42.2.9.jar\").getOrCreate()"
      ],
      "metadata": {
        "id": "yJDb9j9574rZ"
      },
      "execution_count": null,
      "outputs": []
    },
    {
      "cell_type": "code",
      "source": [
        "from pyspark import SparkFiles\n",
        "# Load in amazon luggage.tsv from S3 into a DataFrame\n",
        "url = \"https://myawsbuckethw22.s3.us-west-1.amazonaws.com/amazon_reviews_us_Video_Games_v1_00.tsv\"\n",
        "spark.sparkContext.addFile(url)\n",
        "\n",
        "df = spark.read.option('header', 'true').csv(SparkFiles.get(\"amazon_reviews_us_Video_Games_v1_00.tsv\"), inferSchema=True, sep='\\t', timestampFormat=\"yyyy-mm-dd\")\n",
        "df.show(10)"
      ],
      "metadata": {
        "colab": {
          "base_uri": "https://localhost:8080/"
        },
        "id": "4-thBNjZLQSi",
        "outputId": "0835c36d-aad5-40e3-a60d-5b39df13da31"
      },
      "execution_count": null,
      "outputs": [
        {
          "output_type": "stream",
          "name": "stdout",
          "text": [
            "+-----------+-----------+--------------+----------+--------------+--------------------+----------------+-----------+-------------+-----------+----+-----------------+--------------------+--------------------+-------------------+\n",
            "|marketplace|customer_id|     review_id|product_id|product_parent|       product_title|product_category|star_rating|helpful_votes|total_votes|vine|verified_purchase|     review_headline|         review_body|        review_date|\n",
            "+-----------+-----------+--------------+----------+--------------+--------------------+----------------+-----------+-------------+-----------+----+-----------------+--------------------+--------------------+-------------------+\n",
            "|         US|   12039526| RTIS3L2M1F5SM|B001CXYMFS|     737716809|Thrustmaster T-Fl...|     Video Games|          5|            0|          0|   N|                Y|an amazing joysti...|Used this for Eli...|2015-01-31 00:08:00|\n",
            "|         US|    9636577| R1ZV7R40OLHKD|B00M920ND6|     569686175|Tonsee 6 buttons ...|     Video Games|          5|            0|          0|   N|                Y|Definitely a sile...|Loved it,  I didn...|2015-01-31 00:08:00|\n",
            "|         US|    2331478|R3BH071QLH8QMC|B0029CSOD2|      98937668|Hidden Mysteries:...|     Video Games|          1|            0|          1|   N|                Y|            One Star|poor quality work...|2015-01-31 00:08:00|\n",
            "|         US|   52495923|R127K9NTSXA2YH|B00GOOSV98|      23143350|GelTabz Performan...|     Video Games|          3|            0|          0|   N|                Y|good, but could b...|nice, but tend to...|2015-01-31 00:08:00|\n",
            "|         US|   14533949|R32ZWUXDJPW27Q|B00Y074JOM|     821342511|Zero Suit Samus a...|     Video Games|          4|            0|          0|   N|                Y|   Great but flawed.|Great amiibo, gre...|2015-01-31 00:08:00|\n",
            "|         US|    2377552|R3AQQ4YUKJWBA6|B002UBI6W6|     328764615|Psyclone Recharge...|     Video Games|          1|            0|          0|   N|                Y|            One Star|The remote consta...|2015-01-31 00:08:00|\n",
            "|         US|   17521011|R2F0POU5K6F73F|B008XHCLFO|      24234603|Protection for yo...|     Video Games|          5|            0|          0|   N|                Y|              A Must|I have a 2012-201...|2015-01-31 00:08:00|\n",
            "|         US|   19676307|R3VNR804HYSMR6|B00BRA9R6A|     682267517|   Nerf 3DS XL Armor|     Video Games|          5|            0|          0|   N|                Y|          Five Stars|Perfect, kids lov...|2015-01-31 00:08:00|\n",
            "|         US|     224068| R3GZTM72WA2QH|B009EPWJLA|     435241890|One Piece: Pirate...|     Video Games|          5|            0|          0|   N|                Y|          Five Stars|            Excelent|2015-01-31 00:08:00|\n",
            "|         US|   48467989| RNQOY62705W1K|B0000AV7GB|     256572651|Playstation 2 Dan...|     Video Games|          4|            0|          0|   N|                Y|          Four Stars|Slippery but expe...|2015-01-31 00:08:00|\n",
            "+-----------+-----------+--------------+----------+--------------+--------------------+----------------+-----------+-------------+-----------+----+-----------------+--------------------+--------------------+-------------------+\n",
            "only showing top 10 rows\n",
            "\n"
          ]
        }
      ]
    },
    {
      "cell_type": "code",
      "source": [
        "print(df.count())"
      ],
      "metadata": {
        "colab": {
          "base_uri": "https://localhost:8080/"
        },
        "id": "H06YXaHHTRrY",
        "outputId": "35f5ee25-b405-48c7-ffb3-618092ef1412"
      },
      "execution_count": null,
      "outputs": [
        {
          "output_type": "stream",
          "name": "stdout",
          "text": [
            "1785997\n"
          ]
        }
      ]
    },
    {
      "cell_type": "code",
      "source": [
        "customer_id_df = df.select(\"customer_id\")\n",
        "customer_id_df.show()"
      ],
      "metadata": {
        "colab": {
          "base_uri": "https://localhost:8080/"
        },
        "id": "Ut-6QGYmTWum",
        "outputId": "e53ecc8f-3962-4a6a-bc27-9c16f11fab81"
      },
      "execution_count": null,
      "outputs": [
        {
          "output_type": "stream",
          "name": "stdout",
          "text": [
            "+-----------+\n",
            "|customer_id|\n",
            "+-----------+\n",
            "|   12039526|\n",
            "|    9636577|\n",
            "|    2331478|\n",
            "|   52495923|\n",
            "|   14533949|\n",
            "|    2377552|\n",
            "|   17521011|\n",
            "|   19676307|\n",
            "|     224068|\n",
            "|   48467989|\n",
            "|     106569|\n",
            "|   48269642|\n",
            "|   52738710|\n",
            "|   10556786|\n",
            "|    2963837|\n",
            "|   23092109|\n",
            "|   23091728|\n",
            "|   10712640|\n",
            "|   17455376|\n",
            "|   14754850|\n",
            "+-----------+\n",
            "only showing top 20 rows\n",
            "\n"
          ]
        }
      ]
    },
    {
      "cell_type": "code",
      "source": [
        "from pyspark.sql.functions import to_date\n",
        "# Review DataFrame\n",
        "review_id_df = df.select([\"review_id\", \"customer_id\", \"product_id\", \"product_parent\", to_date(\"review_date\", 'yyyy-MM-dd').alias(\"review_date\")])\n",
        "review_id_df.show()"
      ],
      "metadata": {
        "colab": {
          "base_uri": "https://localhost:8080/"
        },
        "id": "6WukE9AmUNum",
        "outputId": "7ad44128-681a-47a4-e6be-2292a768b890"
      },
      "execution_count": null,
      "outputs": [
        {
          "output_type": "stream",
          "name": "stdout",
          "text": [
            "+--------------+-----------+----------+--------------+-----------+\n",
            "|     review_id|customer_id|product_id|product_parent|review_date|\n",
            "+--------------+-----------+----------+--------------+-----------+\n",
            "| RTIS3L2M1F5SM|   12039526|B001CXYMFS|     737716809| 2015-01-31|\n",
            "| R1ZV7R40OLHKD|    9636577|B00M920ND6|     569686175| 2015-01-31|\n",
            "|R3BH071QLH8QMC|    2331478|B0029CSOD2|      98937668| 2015-01-31|\n",
            "|R127K9NTSXA2YH|   52495923|B00GOOSV98|      23143350| 2015-01-31|\n",
            "|R32ZWUXDJPW27Q|   14533949|B00Y074JOM|     821342511| 2015-01-31|\n",
            "|R3AQQ4YUKJWBA6|    2377552|B002UBI6W6|     328764615| 2015-01-31|\n",
            "|R2F0POU5K6F73F|   17521011|B008XHCLFO|      24234603| 2015-01-31|\n",
            "|R3VNR804HYSMR6|   19676307|B00BRA9R6A|     682267517| 2015-01-31|\n",
            "| R3GZTM72WA2QH|     224068|B009EPWJLA|     435241890| 2015-01-31|\n",
            "| RNQOY62705W1K|   48467989|B0000AV7GB|     256572651| 2015-01-31|\n",
            "|R1VTIA3JTYBY02|     106569|B00008KTNN|     384411423| 2015-01-31|\n",
            "|R29DOU8791QZL8|   48269642|B000A3IA0Y|     472622859| 2015-01-31|\n",
            "|R15DUT1VIJ9RJZ|   52738710|B0053BQN34|     577628462| 2015-01-31|\n",
            "|R3IMF2MQ3OU9ZM|   10556786|B002I0HIMI|     988218515| 2015-01-31|\n",
            "|R23H79DHOZTYAU|    2963837|B0081EH12M|     770100932| 2015-01-31|\n",
            "| RIV24EQAIXA4O|   23092109|B005FMLZQQ|      24647669| 2015-01-31|\n",
            "|R3UCNGYDVN24YB|   23091728|B002BSA388|      33706205| 2015-01-31|\n",
            "| RUL4H4XTTN2DY|   10712640|B00BUSLSAC|     829667834| 2015-01-31|\n",
            "|R20JF7Z4DHTNX5|   17455376|B00KWF38AW|     110680188| 2015-01-31|\n",
            "|R2T1AJ5MFI2260|   14754850|B00BRQJYA8|     616463426| 2015-01-31|\n",
            "+--------------+-----------+----------+--------------+-----------+\n",
            "only showing top 20 rows\n",
            "\n"
          ]
        }
      ]
    },
    {
      "cell_type": "code",
      "source": [
        "products_df = df.select([\"product_id\", \"product_title\"]).drop_duplicates()\n",
        "products_df.show()"
      ],
      "metadata": {
        "colab": {
          "base_uri": "https://localhost:8080/"
        },
        "id": "7Bc_B0jvUaeu",
        "outputId": "864e7d20-501d-4016-eb13-d7e894fd8ede"
      },
      "execution_count": null,
      "outputs": [
        {
          "output_type": "stream",
          "name": "stdout",
          "text": [
            "+----------+--------------------+\n",
            "|product_id|       product_title|\n",
            "+----------+--------------------+\n",
            "|B00CJ7IUI6|The Elder Scrolls...|\n",
            "|B00DHF39KS|Wolfenstein: The ...|\n",
            "|B00MUTAVH6|Under Night In-Bi...|\n",
            "|B001AZSEUW|              Peggle|\n",
            "|B00KVOVBGM|PlayStation 4 Con...|\n",
            "|B00O9VGH4Y|USPRO&reg; Headph...|\n",
            "|B004OQNZY4|Phineas and Ferb:...|\n",
            "|B00ZLN980O|Donop seablue 2.4...|\n",
            "|B002L8W5V6|Dotop Nintendo Ga...|\n",
            "|B007AJZ5PY|Nyko Game Case fo...|\n",
            "|B000AOEU2K|Fire Emblem: Path...|\n",
            "|B000H8BW7U|Tanarus (PC) (Com...|\n",
            "|B013RADQOQ|Susenstone® 2400D...|\n",
            "|B00KQXKUJ2|FIFA 15 (Ultimate...|\n",
            "|B006W41X2C|Turtle Beach - Ea...|\n",
            "|B000KCX9M4|Grand Theft Auto:...|\n",
            "|B00YT90JWC|Red Wii Mini Cons...|\n",
            "|B0096KG6A8|Wii U Super Mario...|\n",
            "|B00L6AVLB0|World of Tanks-X3...|\n",
            "|B000IMYKQ0|Wii Nunchuk Contr...|\n",
            "+----------+--------------------+\n",
            "only showing top 20 rows\n",
            "\n"
          ]
        }
      ]
    },
    {
      "cell_type": "code",
      "source": [
        "reviews_df = df.select([\"review_id\", \"review_headline\", \"review_body\"])\n",
        "reviews_df.show()"
      ],
      "metadata": {
        "colab": {
          "base_uri": "https://localhost:8080/"
        },
        "id": "XOgHGk5NUrce",
        "outputId": "f80579cc-23ac-4819-ef42-8d19469551f0"
      },
      "execution_count": null,
      "outputs": [
        {
          "output_type": "stream",
          "name": "stdout",
          "text": [
            "+--------------+--------------------+--------------------+\n",
            "|     review_id|     review_headline|         review_body|\n",
            "+--------------+--------------------+--------------------+\n",
            "| RTIS3L2M1F5SM|an amazing joysti...|Used this for Eli...|\n",
            "| R1ZV7R40OLHKD|Definitely a sile...|Loved it,  I didn...|\n",
            "|R3BH071QLH8QMC|            One Star|poor quality work...|\n",
            "|R127K9NTSXA2YH|good, but could b...|nice, but tend to...|\n",
            "|R32ZWUXDJPW27Q|   Great but flawed.|Great amiibo, gre...|\n",
            "|R3AQQ4YUKJWBA6|            One Star|The remote consta...|\n",
            "|R2F0POU5K6F73F|              A Must|I have a 2012-201...|\n",
            "|R3VNR804HYSMR6|          Five Stars|Perfect, kids lov...|\n",
            "| R3GZTM72WA2QH|          Five Stars|            Excelent|\n",
            "| RNQOY62705W1K|          Four Stars|Slippery but expe...|\n",
            "|R1VTIA3JTYBY02|          Five Stars|Love the game. Se...|\n",
            "|R29DOU8791QZL8| Game will get stuck|Does not fit prop...|\n",
            "|R15DUT1VIJ9RJZ|We have tried it ...|This was way too ...|\n",
            "|R3IMF2MQ3OU9ZM|          Four Stars|Works great good ...|\n",
            "|R23H79DHOZTYAU|Now i have to buy...|It did not fit th...|\n",
            "| RIV24EQAIXA4O|          Five Stars|perfect lightweig...|\n",
            "|R3UCNGYDVN24YB|          Five Stars|               great|\n",
            "| RUL4H4XTTN2DY|          Five Stars|Works beautifully...|\n",
            "|R20JF7Z4DHTNX5|          Five Stars|Kids loved the ga...|\n",
            "|R2T1AJ5MFI2260|          Four Stars|           Goodngame|\n",
            "+--------------+--------------------+--------------------+\n",
            "only showing top 20 rows\n",
            "\n"
          ]
        }
      ]
    },
    {
      "cell_type": "code",
      "source": [
        "rating_df = df.select([\"review_id\", \"star_rating\", \"helpful_votes\", \"total_votes\", \"vine\"])\n",
        "rating_df.show()"
      ],
      "metadata": {
        "colab": {
          "base_uri": "https://localhost:8080/"
        },
        "id": "anc4aw6CVIe-",
        "outputId": "98cc57db-e4c0-4f89-994d-7dcc12610e88"
      },
      "execution_count": null,
      "outputs": [
        {
          "output_type": "stream",
          "name": "stdout",
          "text": [
            "+--------------+-----------+-------------+-----------+----+\n",
            "|     review_id|star_rating|helpful_votes|total_votes|vine|\n",
            "+--------------+-----------+-------------+-----------+----+\n",
            "| RTIS3L2M1F5SM|          5|            0|          0|   N|\n",
            "| R1ZV7R40OLHKD|          5|            0|          0|   N|\n",
            "|R3BH071QLH8QMC|          1|            0|          1|   N|\n",
            "|R127K9NTSXA2YH|          3|            0|          0|   N|\n",
            "|R32ZWUXDJPW27Q|          4|            0|          0|   N|\n",
            "|R3AQQ4YUKJWBA6|          1|            0|          0|   N|\n",
            "|R2F0POU5K6F73F|          5|            0|          0|   N|\n",
            "|R3VNR804HYSMR6|          5|            0|          0|   N|\n",
            "| R3GZTM72WA2QH|          5|            0|          0|   N|\n",
            "| RNQOY62705W1K|          4|            0|          0|   N|\n",
            "|R1VTIA3JTYBY02|          5|            0|          0|   N|\n",
            "|R29DOU8791QZL8|          1|            0|          0|   N|\n",
            "|R15DUT1VIJ9RJZ|          2|            0|          0|   N|\n",
            "|R3IMF2MQ3OU9ZM|          4|            0|          0|   N|\n",
            "|R23H79DHOZTYAU|          1|            1|          1|   N|\n",
            "| RIV24EQAIXA4O|          5|            0|          0|   N|\n",
            "|R3UCNGYDVN24YB|          5|            0|          0|   N|\n",
            "| RUL4H4XTTN2DY|          5|            0|          0|   N|\n",
            "|R20JF7Z4DHTNX5|          5|            0|          0|   N|\n",
            "|R2T1AJ5MFI2260|          4|            0|          0|   N|\n",
            "+--------------+-----------+-------------+-----------+----+\n",
            "only showing top 20 rows\n",
            "\n"
          ]
        }
      ]
    },
    {
      "cell_type": "code",
      "source": [
        "# Configure settings for RDS\n",
        "mode = \"append\"\n",
        "jdbc_url=\"jdbc:postgresql://database-hw22.cqgsn56zcbuj.us-west-1.rds.amazonaws.com:5432/my_data_HW22_db\"\n",
        "config = {\"user\":\"root\", \n",
        "          \"password\": \"*****\", \n",
        "          \"driver\":\"org.postgresql.Driver\"}"
      ],
      "metadata": {
        "id": "9HgrEIRlVrPu"
      },
      "execution_count": 1,
      "outputs": []
    },
    {
      "cell_type": "code",
      "source": [
        "# Write DataFrame to table in RDS\n",
        "\n",
        "review_id_df.write.jdbc(url=jdbc_url, table='review_id_table', mode=mode, properties=config)"
      ],
      "metadata": {
        "id": "qLJ35tHmkH91"
      },
      "execution_count": null,
      "outputs": []
    },
    {
      "cell_type": "code",
      "source": [
        "# Write dataframe to table in RDS\n",
        "\n",
        "products_df.write.jdbc(url=jdbc_url, table='products', mode=mode, properties=config)"
      ],
      "metadata": {
        "id": "zYN1mxsaXHv9"
      },
      "execution_count": null,
      "outputs": []
    },
    {
      "cell_type": "code",
      "source": [
        "# Write dataframe to table in RDS\n",
        "\n",
        "reviews_df.write.jdbc(url=jdbc_url, table='customers', mode=mode, properties=config)\n"
      ],
      "metadata": {
        "id": "cFsYAk7aXLTF"
      },
      "execution_count": null,
      "outputs": []
    },
    {
      "cell_type": "code",
      "source": [
        "# Write vine_df to table in RDS\n",
        "\n",
        "rating_df.write.jdbc(url=jdbc_url, table='vines', mode=mode, properties=config)"
      ],
      "metadata": {
        "id": "5uuHv1GCkP3k"
      },
      "execution_count": null,
      "outputs": []
    }
  ]
}